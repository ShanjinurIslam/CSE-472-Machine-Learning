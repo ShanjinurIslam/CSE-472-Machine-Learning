{
 "cells": [
  {
   "cell_type": "code",
   "execution_count": 317,
   "metadata": {},
   "outputs": [],
   "source": [
    "import numpy as np\n",
    "import pandas as pd\n",
    "import matplotlib.pyplot as plt\n",
    "from math import pow"
   ]
  },
  {
   "cell_type": "code",
   "execution_count": 318,
   "metadata": {},
   "outputs": [],
   "source": [
    "df = pd.read_csv('data.csv',header=None)\n",
    "valid_rating_count = df[df.columns[0]]\n",
    "df = df.drop(columns=df.columns[0])"
   ]
  },
  {
   "cell_type": "code",
   "execution_count": 319,
   "metadata": {},
   "outputs": [
    {
     "data": {
      "text/plain": [
       "array([[-7.82,  8.79, -9.66, ..., 99.  , 99.  , 99.  ],\n",
       "       [ 4.08, -0.29,  6.36, ...,  0.34, -4.32,  1.07],\n",
       "       [99.  , 99.  , 99.  , ..., 99.  , 99.  , 99.  ],\n",
       "       ...,\n",
       "       [99.  , 99.  , 99.  , ..., 99.  , 99.  , 99.  ],\n",
       "       [99.  , 99.  , 99.  , ..., 99.  , 99.  , 99.  ],\n",
       "       [ 2.43,  2.67, -3.98, ..., 99.  , 99.  , 99.  ]])"
      ]
     },
     "execution_count": 319,
     "metadata": {},
     "output_type": "execute_result"
    }
   ],
   "source": [
    "X = df.values\n",
    "X"
   ]
  },
  {
   "cell_type": "code",
   "execution_count": 320,
   "metadata": {},
   "outputs": [
    {
     "data": {
      "text/plain": [
       "0         74\n",
       "1        100\n",
       "2         49\n",
       "3         48\n",
       "4         91\n",
       "        ... \n",
       "24978    100\n",
       "24979     91\n",
       "24980     39\n",
       "24981     37\n",
       "24982     72\n",
       "Name: 0, Length: 24983, dtype: int64"
      ]
     },
     "execution_count": 320,
     "metadata": {},
     "output_type": "execute_result"
    }
   ],
   "source": [
    "valid_rating_count"
   ]
  },
  {
   "cell_type": "code",
   "execution_count": 321,
   "metadata": {},
   "outputs": [],
   "source": [
    "# train test split\n",
    "\n",
    "def train_test_split(X,no_rating=99,valid_rating_count=None,train_ratio=0.6,validation_ratio=0.2,test_ratio=0.2):\n",
    "    N = X.shape[0]\n",
    "    M = X.shape[1]\n",
    "    \n",
    "    training_set = np.ones((N,M))*99\n",
    "    validation_set = np.ones((N,M))*99\n",
    "    test_set = np.ones((N,M))*99\n",
    "    \n",
    "    for i in range(N):\n",
    "        valid_indices = []\n",
    "        for j in range(M):\n",
    "            if X[i][j]!=99:\n",
    "                valid_indices.append(j)\n",
    "        \n",
    "        if valid_rating_count is not None and valid_rating_count[i]!=len(valid_indices):\n",
    "            print(\"Error at row index \",i)\n",
    "            continue\n",
    "            \n",
    "        np.random.shuffle(valid_indices) # uniform distribution of indicies\n",
    "        \n",
    "        total_valid_indices_size = len(valid_indices)\n",
    "        training_set_size = int(round(train_ratio*total_valid_indices_size))\n",
    "        validation_set_size = int(round(validation_ratio*total_valid_indices_size))\n",
    "        test_set_size = int(round(validation_ratio*total_valid_indices_size))\n",
    "        \n",
    "        training_indices = valid_indices[0:training_set_size]\n",
    "        validation_indices = valid_indices[training_set_size:training_set_size+validation_set_size]\n",
    "        test_indicies = valid_indices[training_set_size+validation_set_size:total_valid_indices_size]\n",
    "        \n",
    "        for j in training_indices:\n",
    "            training_set[i][j] = X[i][j]\n",
    "        \n",
    "        for j in validation_indices:\n",
    "            validation_set[i][j] = X[i][j]\n",
    "        \n",
    "        for j in test_indicies:\n",
    "            test_set[i][j] = X[i][j]\n",
    "            \n",
    "    return training_set,validation_set,test_set"
   ]
  },
  {
   "cell_type": "code",
   "execution_count": 322,
   "metadata": {},
   "outputs": [
    {
     "name": "stdout",
     "output_type": "stream",
     "text": [
      "44\n"
     ]
    }
   ],
   "source": [
    "train_set,val_set,test_set = train_test_split(X,no_rating=99,valid_rating_count=valid_rating_count)"
   ]
  },
  {
   "cell_type": "code",
   "execution_count": 323,
   "metadata": {},
   "outputs": [
    {
     "data": {
      "text/plain": [
       "array([[99.  ,  8.79, -9.66, ..., 99.  , 99.  , 99.  ],\n",
       "       [99.  , 99.  , 99.  , ..., 99.  , 99.  , 99.  ],\n",
       "       [99.  , 99.  , 99.  , ..., 99.  , 99.  , 99.  ],\n",
       "       ...,\n",
       "       [99.  , 99.  , 99.  , ..., 99.  , 99.  , 99.  ],\n",
       "       [99.  , 99.  , 99.  , ..., 99.  , 99.  , 99.  ],\n",
       "       [99.  , 99.  , 99.  , ..., 99.  , 99.  , 99.  ]])"
      ]
     },
     "execution_count": 323,
     "metadata": {},
     "output_type": "execute_result"
    }
   ],
   "source": [
    "train_set"
   ]
  },
  {
   "cell_type": "code",
   "execution_count": 324,
   "metadata": {},
   "outputs": [
    {
     "data": {
      "text/plain": [
       "array([99., 99., 99., 99., 99., 99., 99., 99., 99., 99., 99., 99., 99.,\n",
       "       99., 99., 99., 99., 99., 99., 99., 99., 99., 99., 99., 99., 99.,\n",
       "       99., 99., 99., 99., 99., 99., 99., 99., 99., 99., 99., 99., 99.,\n",
       "       99., 99., 99., 99., 99., 99., 99., 99., 99., 99., 99., 99., 99.,\n",
       "       99., 99., 99., 99., 99., 99., 99., 99., 99., 99., 99., 99., 99.,\n",
       "       99., 99., 99., 99., 99., 99., 99., 99., 99., 99., 99., 99., 99.,\n",
       "       99., 99., 99., 99., 99., 99., 99., 99., 99., 99., 99., 99., 99.,\n",
       "       99., 99., 99., 99., 99., 99., 99., 99., 99.])"
      ]
     },
     "execution_count": 324,
     "metadata": {},
     "output_type": "execute_result"
    }
   ],
   "source": [
    "train_set[-2]"
   ]
  },
  {
   "cell_type": "code",
   "execution_count": null,
   "metadata": {},
   "outputs": [],
   "source": []
  }
 ],
 "metadata": {
  "kernelspec": {
   "display_name": "Python 3",
   "language": "python",
   "name": "python3"
  },
  "language_info": {
   "codemirror_mode": {
    "name": "ipython",
    "version": 3
   },
   "file_extension": ".py",
   "mimetype": "text/x-python",
   "name": "python",
   "nbconvert_exporter": "python",
   "pygments_lexer": "ipython3",
   "version": "3.7.4"
  }
 },
 "nbformat": 4,
 "nbformat_minor": 2
}
