{
 "cells": [
  {
   "cell_type": "code",
   "execution_count": 1,
   "metadata": {},
   "outputs": [],
   "source": [
    "import numpy as np\n",
    "import pandas as pd\n",
    "import matplotlib.pyplot as plt"
   ]
  },
  {
   "cell_type": "code",
   "execution_count": 2,
   "metadata": {},
   "outputs": [],
   "source": [
    "df_train = pd.read_csv('MulticlassTrain.csv')\n",
    "df_test = pd.read_csv('MulitiClassTest.csv')"
   ]
  },
  {
   "cell_type": "code",
   "execution_count": 3,
   "metadata": {},
   "outputs": [],
   "source": [
    "X_train = df_train[df_train.columns[:-1]].values\n",
    "Y_train = df_train[df_train.columns[-1]].values"
   ]
  },
  {
   "cell_type": "code",
   "execution_count": 4,
   "metadata": {},
   "outputs": [],
   "source": [
    "X_test = df_test[df_test.columns[:-1]].values\n",
    "Y_test = df_test[df_test.columns[-1]].values\n",
    "\n",
    "number_of_classes = len(np.unique(Y_train))"
   ]
  },
  {
   "cell_type": "code",
   "execution_count": 5,
   "metadata": {},
   "outputs": [],
   "source": [
    "def sigmoid(z):\n",
    "    return 1/(1 + np.exp(-z))"
   ]
  },
  {
   "cell_type": "code",
   "execution_count": 6,
   "metadata": {},
   "outputs": [],
   "source": [
    "def fit(X_train,Y_train,number_of_classes,learning_rate=0.0005,max_iteration=1000):\n",
    "    X_train= np.insert(X_train, 0, values=1, axis=1)\n",
    "    no_attributes = X_train.shape[1]\n",
    "    \n",
    "    theta = np.zeros((no_attributes,number_of_classes))\n",
    "    \n",
    "    for icount in range(max_iteration):        \n",
    "        delta = np.zeros((no_attributes,number_of_classes))\n",
    "        \n",
    "        totalLogLikelihood = 0\n",
    "        \n",
    "        for instance,true_y in zip(X_train,Y_train):\n",
    "            instance = instance.reshape(no_attributes,1)\n",
    "            \n",
    "            dotResult = np.dot(theta.T,instance)\n",
    "            pr = sigmoid(dotResult)\n",
    "            predictedValue = pr.squeeze()\n",
    "            \n",
    "            av = np.zeros((number_of_classes,1))\n",
    "            actualValue = av.squeeze()\n",
    "            actualValue[true_y-1] = 1 # if classes are number from 1 to n else true_y 0 -> n-1\n",
    "            \n",
    "            derivativeValue = instance*(actualValue-predictedValue)\n",
    "            delta += learning_rate*derivativeValue\n",
    "            logLikelihood = np.dot(actualValue,np.log(predictedValue)) + np.dot(1-actualValue,np.log(1-predictedValue))\n",
    "            totalLogLikelihood += logLikelihood\n",
    "            \n",
    "        theta = theta + delta\n",
    "        \n",
    "        if icount%100==0:\n",
    "            print(icount)\n",
    "            print(totalLogLikelihood)\n",
    "            print(theta)\n",
    "        \n",
    "    return theta"
   ]
  },
  {
   "cell_type": "code",
   "execution_count": 7,
   "metadata": {
    "tags": []
   },
   "outputs": [
    {
     "output_type": "stream",
     "name": "stdout",
     "text": "0\n-623.8324625039492\n[[-0.025      -0.025      -0.025     ]\n [-0.19354725  0.10028855 -0.602869  ]\n [ 0.07345308 -0.32175738 -0.12694417]\n [-0.14645753  0.10352738 -0.45869877]]\n100\n-148.41672221769613\n[[-2.12554    -0.10293206  0.42194603]\n [-0.38388263  0.29062987 -0.96481727]\n [ 0.53815812 -1.35449296  1.12754043]\n [ 0.24491806  0.31151287 -0.76695238]]\n200\n-83.18568787946295\n[[-3.70716028 -0.12082556  0.58092965]\n [-0.26220563  0.31527789 -1.19780382]\n [ 0.69985025 -1.46523062  1.37190042]\n [ 0.36270729  0.33489137 -0.8732131 ]]\n300\n-60.56543487174008\n[[-4.73598652 -0.13374779  0.69660809]\n [-0.11102477  0.33241813 -1.35582235]\n [ 0.72577134 -1.54202539  1.52625126]\n [ 0.34787202  0.350869   -0.92728519]]\n400\n-45.00761402332528\n[[-5.48282872 -0.14397066  0.79078018]\n [-0.12382493  0.34563    -1.47833264]\n [ 0.74405567 -1.60108261  1.64061587]\n [ 0.24011863  0.36303494 -0.96122535]]\n500\n-37.4531282944459\n[[-5.9867499  -0.15247889  0.87153377]\n [-0.04674852  0.35640742 -1.57934947]\n [ 0.80081277 -1.64917964  1.73201631]\n [ 0.21932477  0.37286745 -0.98509536]]\n600\n-33.288433594622504\n[[-6.41538351 -0.15979374  0.9429102 ]\n [-0.01702998  0.36552306 -1.6656888 ]\n [ 0.84540642 -1.68981205  1.80840113]\n [ 0.20156911  0.3811226  -1.00319978]]\n700\n-30.03204096162905\n[[-6.79552404e+00 -1.66226424e-01  1.00727012e+00]\n [ 2.61045873e-03  3.73429808e-01 -1.74125802e+00]\n [ 8.85698880e-01 -1.72502408e+00  1.87415529e+00]\n [ 1.93832334e-01  3.88239555e-01 -1.01770463e+00]]\n800\n-27.40993294164743\n[[-7.13706804 -0.17197845  1.06613355]\n [ 0.01744399  0.38041643 -1.80853759]\n [ 0.92227999 -1.7561167   1.93196559]\n [ 0.19045548  0.39449616 -1.02981809]]\n900\n-25.250601509100907\n[[-7.44720523 -0.17718816  1.12054676]\n [ 0.02959287  0.3866786  -1.86921519]\n [ 0.95566953 -1.78397002  1.98360254]\n [ 0.18906938  0.40007944 -1.04026471]]\n"
    }
   ],
   "source": [
    "theta = fit(X_train,Y_train,number_of_classes)"
   ]
  },
  {
   "cell_type": "code",
   "execution_count": 8,
   "metadata": {},
   "outputs": [],
   "source": [
    "def predict(X_train,Y_train,theta,number_of_classes):\n",
    "    X_train= np.insert(X_train, 0, values=1, axis=1)\n",
    "    no_attributes = X_train.shape[1]\n",
    "    \n",
    "    length = len(X_train)\n",
    "    accuracy = 0\n",
    "    \n",
    "    for instance,true_y in zip(X_train,Y_train):\n",
    "        instance = instance.reshape(no_attributes,1)\n",
    "        dotResult = np.dot(theta.T,instance)\n",
    "        \n",
    "        predictedValue = sigmoid(dotResult).squeeze()\n",
    "        predictedValue = np.argmax(predictedValue)\n",
    "        \n",
    "        if(predictedValue==true_y-1):\n",
    "            accuracy += 1\n",
    "        \n",
    "    return accuracy/length"
   ]
  },
  {
   "cell_type": "code",
   "execution_count": 9,
   "metadata": {},
   "outputs": [
    {
     "output_type": "execute_result",
     "data": {
      "text/plain": "1.0"
     },
     "metadata": {},
     "execution_count": 9
    }
   ],
   "source": [
    "# train accuracy\n",
    "predict(X_train,Y_train,theta,number_of_classes)"
   ]
  },
  {
   "cell_type": "code",
   "execution_count": 10,
   "metadata": {},
   "outputs": [
    {
     "output_type": "execute_result",
     "data": {
      "text/plain": "0.9866666666666667"
     },
     "metadata": {},
     "execution_count": 10
    }
   ],
   "source": [
    "predict(X_test,Y_test,theta,number_of_classes)"
   ]
  },
  {
   "cell_type": "code",
   "execution_count": null,
   "metadata": {},
   "outputs": [],
   "source": []
  }
 ],
 "metadata": {
  "kernelspec": {
   "display_name": "Python 3",
   "language": "python",
   "name": "python3"
  },
  "language_info": {
   "codemirror_mode": {
    "name": "ipython",
    "version": 3
   },
   "file_extension": ".py",
   "mimetype": "text/x-python",
   "name": "python",
   "nbconvert_exporter": "python",
   "pygments_lexer": "ipython3",
   "version": "3.7.4-final"
  }
 },
 "nbformat": 4,
 "nbformat_minor": 2
}