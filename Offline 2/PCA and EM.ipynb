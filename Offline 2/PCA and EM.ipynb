{
 "cells": [
  {
   "cell_type": "code",
   "execution_count": 43,
   "metadata": {},
   "outputs": [],
   "source": [
    "import numpy as np\n",
    "import matplotlib.pyplot as plt\n",
    "from math import pow,sqrt\n",
    "\n",
    "np.random.seed(40)"
   ]
  },
  {
   "cell_type": "code",
   "execution_count": 44,
   "metadata": {},
   "outputs": [],
   "source": [
    "file = open('data.txt')\n",
    "\n",
    "lines = file.readlines()\n",
    "\n",
    "dataset = []\n",
    "\n",
    "for line in lines:\n",
    "    var = line.split()\n",
    "    var = np.array([float(x) for x in var])\n",
    "    dataset.append(var)"
   ]
  },
  {
   "cell_type": "code",
   "execution_count": 45,
   "metadata": {},
   "outputs": [
    {
     "data": {
      "text/plain": [
       "(1000, 100)"
      ]
     },
     "execution_count": 45,
     "metadata": {},
     "output_type": "execute_result"
    }
   ],
   "source": [
    "dataset = np.array(dataset)\n",
    "dataset.shape"
   ]
  },
  {
   "cell_type": "markdown",
   "metadata": {},
   "source": [
    "# PCA and Dimentionality Reduction"
   ]
  },
  {
   "cell_type": "code",
   "execution_count": 46,
   "metadata": {},
   "outputs": [],
   "source": [
    "mean_arr = np.array([np.mean(dataset[:,i]) for i in range(dataset.shape[1])])"
   ]
  },
  {
   "cell_type": "code",
   "execution_count": 75,
   "metadata": {},
   "outputs": [],
   "source": [
    "co_var_matrix = np.zeros((dataset.shape[1],dataset.shape[1]))\n",
    "dataset_len = len(dataset)\n",
    "\n",
    "for i in range(dataset.shape[1]):\n",
    "    for j in range(dataset.shape[1]):\n",
    "        '''\n",
    "        X = dataset[:,i]\n",
    "        Y = dataset[:,j]\n",
    "        \n",
    "        sum = 0\n",
    "        \n",
    "        for k in range(dataset_len):\n",
    "            sum += (X[k]-mean_arr[i])*(Y[k]-mean_arr[j])\n",
    "        \n",
    "        co_var_matrix[i][j] = sum/(dataset_len-1)\n",
    "        '''\n",
    "        \n",
    "        X = dataset[:,i] - mean_arr[i]\n",
    "        Y = dataset[:,j] - mean_arr[j]\n",
    "        Z = np.multiply(X,Y)\n",
    "        total = np.sum(Z,axis=0)\n",
    "        co_var_matrix[i][j] = total/(dataset_len-1)"
   ]
  },
  {
   "cell_type": "code",
   "execution_count": 76,
   "metadata": {},
   "outputs": [],
   "source": [
    "eigen_value,eigen_vector = np.linalg.eig(co_var_matrix)"
   ]
  },
  {
   "cell_type": "code",
   "execution_count": 77,
   "metadata": {},
   "outputs": [],
   "source": [
    "max_index = np.argmax(eigen_value)\n",
    "feature_vector1 = eigen_vector.transpose()[max_index]\n",
    "\n",
    "second_max = np.sort(eigen_value)[-2]\n",
    "itemindex = np.where(eigen_value==second_max)\n",
    "feature_vector2 = eigen_vector.transpose()[itemindex][0]"
   ]
  },
  {
   "cell_type": "code",
   "execution_count": 78,
   "metadata": {},
   "outputs": [
    {
     "data": {
      "text/plain": [
       "array([[-1.90413063,  2.53765342],\n",
       "       [ 2.37854399, -0.08654397],\n",
       "       [ 9.82333473,  0.98385039],\n",
       "       ...,\n",
       "       [-2.97213272,  2.8116352 ],\n",
       "       [ 2.77746122, -1.3049813 ],\n",
       "       [-0.01309129,  0.60874358]])"
      ]
     },
     "execution_count": 78,
     "metadata": {},
     "output_type": "execute_result"
    }
   ],
   "source": [
    "X = np.dot(dataset,feature_vector1.T)\n",
    "Y = np.dot(dataset,feature_vector2.T)\n",
    "\n",
    "final_dataset = np.vstack((X,Y)).transpose()\n",
    "final_dataset\n",
    "\n",
    "final_dataset"
   ]
  },
  {
   "cell_type": "code",
   "execution_count": 79,
   "metadata": {},
   "outputs": [
    {
     "data": {
      "text/plain": [
       "[<matplotlib.lines.Line2D at 0x7fb05b323610>]"
      ]
     },
     "execution_count": 79,
     "metadata": {},
     "output_type": "execute_result"
    },
    {
     "data": {
      "image/png": "[encoded data removed]",
      "text/plain": [
       "<Figure size 432x288 with 1 Axes>"
      ]
     },
     "metadata": {
      "needs_background": "light"
     },
     "output_type": "display_data"
    }
   ],
   "source": [
    "plt.xlabel('PC1')\n",
    "plt.ylabel('PC2')\n",
    "plt.plot(X,Y,'bo')"
   ]
  },
  {
   "cell_type": "markdown",
   "metadata": {},
   "source": [
    "# EM Algorithm"
   ]
  },
  {
   "cell_type": "code",
   "execution_count": 52,
   "metadata": {},
   "outputs": [],
   "source": [
    "K = 3 # number of clusters"
   ]
  },
  {
   "cell_type": "code",
   "execution_count": 53,
   "metadata": {},
   "outputs": [
    {
     "data": {
      "text/plain": [
       "[0.3257358218316368, 0.04423663578976696, 0.6300275423785962]"
      ]
     },
     "execution_count": 53,
     "metadata": {},
     "output_type": "execute_result"
    }
   ],
   "source": [
    "w = np.random.uniform(0,1,K)\n",
    "total = np.sum(w)\n",
    "w = [x/total for x in w]\n",
    "w"
   ]
  },
  {
   "cell_type": "code",
   "execution_count": 54,
   "metadata": {},
   "outputs": [],
   "source": [
    "means = np.random.uniform(-1,1,(K,final_dataset.shape[1]))"
   ]
  },
  {
   "cell_type": "code",
   "execution_count": 55,
   "metadata": {},
   "outputs": [],
   "source": [
    "co_var_matrices = np.random.uniform(-1,1,(K,final_dataset.shape[1],final_dataset.shape[1]))"
   ]
  },
  {
   "cell_type": "code",
   "execution_count": 56,
   "metadata": {},
   "outputs": [],
   "source": [
    "def gaussian_likelihood(x,mean,co_var_matrix):\n",
    "    inv = np.linalg.inv(co_var_matrix)\n",
    "    det = abs(np.linalg.det(co_var_matrix))\n",
    "    d = (1/sqrt(pow((2*3.1416),final_dataset.shape[1])*det))\n",
    "    likelihood = []\n",
    "    \n",
    "    for i in x:\n",
    "        a = np.dot(inv,i-mean)\n",
    "        b = np.dot((i-mean),a)\n",
    "        c = np.exp(-0.5*b)\n",
    "        l = c*d\n",
    "        likelihood.append(l)\n",
    "\n",
    "    return likelihood"
   ]
  },
  {
   "cell_type": "code",
   "execution_count": 57,
   "metadata": {},
   "outputs": [],
   "source": [
    "def EM_Alogrithm(x,means,co_var_matrices):\n",
    "    prev = 0 \n",
    "    \n",
    "    while(True):\n",
    "        class_wise_likelihood = []\n",
    "        for i in range(K):\n",
    "            class_wise_likelihood.append(gaussian_likelihood(x,means[i],co_var_matrices[i]))\n",
    "\n",
    "        likelihood = np.array(class_wise_likelihood).transpose()\n",
    "\n",
    "        p = []\n",
    "\n",
    "        for k in range(K):\n",
    "            p_k = []\n",
    "            for i in range(len(likelihood)):\n",
    "                t = 0\n",
    "                for j in range(len(w)):\n",
    "                    t += w[j]*likelihood[i][j]\n",
    "                p_k.append( (w[k]*likelihood[i][k]) / t )\n",
    "            p.append(p_k)\n",
    "\n",
    "        p = np.array(p)\n",
    "\n",
    "        for k in range(K):\n",
    "            sum_arr = 0 \n",
    "            for i in range(len(x)):\n",
    "                sum_arr += p[k][i]*x[i]\n",
    "            means[k] = sum_arr / np.sum(p[k])\n",
    "\n",
    "\n",
    "        for k in range(K):\n",
    "            co_var_matrix = 0\n",
    "            for i in range(len(x)):\n",
    "                arr = np.array(x[i]-means[k]).reshape(2,1)\n",
    "                cross = p[k][i]*arr*arr.transpose()\n",
    "                co_var_matrix += cross\n",
    "            sum_p_k = np.sum(p[k])\n",
    "            co_var_matrices[k] = co_var_matrix/sum_p_k\n",
    "\n",
    "        for k in range(K):\n",
    "            w[k] = np.sum(p[k])/len(x)\n",
    "        \n",
    "        class_wise_likelihood = []\n",
    "        for i in range(K):\n",
    "            class_wise_likelihood.append(gaussian_likelihood(x,means[i],co_var_matrices[i]))\n",
    "\n",
    "        likelihood = np.array(class_wise_likelihood).transpose()\n",
    "        \n",
    "        log_likelihood = 0\n",
    "        \n",
    "        for i in range(len(likelihood)):\n",
    "            t = 0\n",
    "            for j in range(len(w)):\n",
    "                t += w[j]*likelihood[i][j]\n",
    "            log_likelihood += np.log(t)\n",
    "        \n",
    "        \n",
    "        diff = abs(prev-log_likelihood)\n",
    "        \n",
    "        if(diff<1e-6):\n",
    "            print(w)\n",
    "            break\n",
    "        \n",
    "        prev = log_likelihood\n",
    "    return w,means,co_var_matrices"
   ]
  },
  {
   "cell_type": "code",
   "execution_count": 58,
   "metadata": {},
   "outputs": [
    {
     "name": "stdout",
     "output_type": "stream",
     "text": [
      "[0.2405536515602783, 0.4597653459136543, 0.29968100252606733]\n"
     ]
    }
   ],
   "source": [
    "w,means,co_var_matrices = EM_Alogrithm(final_dataset,means,co_var_matrices)"
   ]
  },
  {
   "cell_type": "code",
   "execution_count": 59,
   "metadata": {},
   "outputs": [],
   "source": [
    "class_wise_likelihood = []\n",
    "for i in range(K):\n",
    "    class_wise_likelihood.append(gaussian_likelihood(final_dataset,means[i],co_var_matrices[i]))\n",
    "\n",
    "likelihood = np.array(class_wise_likelihood).transpose()\n",
    "\n",
    "index = []\n",
    "\n",
    "for i in range(len(final_dataset)):\n",
    "    index.append(np.argmax(likelihood[i]))\n",
    "\n",
    "index = np.array(index)"
   ]
  },
  {
   "cell_type": "code",
   "execution_count": 60,
   "metadata": {},
   "outputs": [],
   "source": [
    "class_wise_dataset = []\n",
    "\n",
    "for k in range(K):\n",
    "    class_wise_dataset.append(np.array(final_dataset[np.where(index==k)]))"
   ]
  },
  {
   "cell_type": "code",
   "execution_count": 61,
   "metadata": {},
   "outputs": [
    {
     "data": {
      "image/png": "[encoded data removed]",
      "text/plain": [
       "<Figure size 432x288 with 1 Axes>"
      ]
     },
     "metadata": {
      "needs_background": "light"
     },
     "output_type": "display_data"
    }
   ],
   "source": [
    "colors = ['ro','go','bo']\n",
    "\n",
    "plt.title('EM Algorithm')\n",
    "plt.xlabel('PC1')\n",
    "plt.ylabel('PC2')\n",
    "\n",
    "for k in range(K):\n",
    "    arr = class_wise_dataset[k].transpose()\n",
    "    X = arr[0]\n",
    "    Y = arr[1]\n",
    "    plt.plot(X,Y,colors[k])"
   ]
  },
  {
   "cell_type": "code",
   "execution_count": null,
   "metadata": {},
   "outputs": [],
   "source": []
  }
 ],
 "metadata": {
  "kernelspec": {
   "display_name": "Python 3",
   "language": "python",
   "name": "python3"
  },
  "language_info": {
   "codemirror_mode": {
    "name": "ipython",
    "version": 3
   },
   "file_extension": ".py",
   "mimetype": "text/x-python",
   "name": "python",
   "nbconvert_exporter": "python",
   "pygments_lexer": "ipython3",
   "version": "3.7.4"
  }
 },
 "nbformat": 4,
 "nbformat_minor": 4
}
