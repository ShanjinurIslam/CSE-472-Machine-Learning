{
 "cells": [
  {
   "cell_type": "code",
   "execution_count": 221,
   "metadata": {},
   "outputs": [],
   "source": [
    "import numpy as np\n",
    "import pandas as pd\n",
    "import matplotlib.pyplot as plt\n",
    "from math import pow,sqrt\n",
    "\n",
    "np.random.seed(40)"
   ]
  },
  {
   "cell_type": "markdown",
   "metadata": {},
   "source": [
    "# Reading Datafile"
   ]
  },
  {
   "cell_type": "code",
   "execution_count": 222,
   "metadata": {},
   "outputs": [
    {
     "data": {
      "text/plain": [
       "(1000, 100)"
      ]
     },
     "execution_count": 222,
     "metadata": {},
     "output_type": "execute_result"
    }
   ],
   "source": [
    "df = pd.read_csv('data.txt',delimiter='\\s+',header=None)\n",
    "\n",
    "dataset = df.values\n",
    "shape = dataset.shape\n",
    "\n",
    "shape"
   ]
  },
  {
   "cell_type": "markdown",
   "metadata": {},
   "source": [
    "# PCA and Dimentionality Reduction"
   ]
  },
  {
   "cell_type": "code",
   "execution_count": 223,
   "metadata": {},
   "outputs": [],
   "source": [
    "def PCA_DR(dataset):\n",
    "    mean_arr = np.array([np.mean(dataset[:,i]) for i in range(dataset.shape[1])])\n",
    "    co_var_matrix = np.zeros((dataset.shape[1],dataset.shape[1]))\n",
    "    dataset_len = dataset.shape[0]\n",
    "    \n",
    "    for i in range(dataset.shape[1]):\n",
    "        for j in range(dataset.shape[1]):\n",
    "            X = dataset[:,i] - mean_arr[i]\n",
    "            Y = dataset[:,j] - mean_arr[j]\n",
    "            Z = np.multiply(X,Y)\n",
    "            total = np.sum(Z,axis=0)\n",
    "            co_var_matrix[i][j] = total/(dataset_len-1)\n",
    "            \n",
    "    eigen_value,eigen_vector = np.linalg.eig(co_var_matrix)\n",
    "    \n",
    "    eigen_vector = eigen_vector.transpose()\n",
    "    sorted_eigen_value = np.sort(eigen_value)\n",
    "    \n",
    "    max_index = np.argmax(eigen_value)\n",
    "    second_max = np.where(eigen_value==sorted_eigen_value[-2])[0][0]\n",
    "    \n",
    "    feature_vector1 = eigen_vector[max_index]\n",
    "    feature_vector2 = eigen_vector[second_max]\n",
    "    \n",
    "    X = np.dot(dataset,feature_vector1.T).reshape(-1,1)\n",
    "    Y = np.dot(dataset,feature_vector2.T).reshape(-1,1)\n",
    "    \n",
    "    return np.concatenate((X,Y),axis=1)"
   ]
  },
  {
   "cell_type": "code",
   "execution_count": 224,
   "metadata": {},
   "outputs": [],
   "source": [
    "final_dataset = PCA_DR(dataset)"
   ]
  },
  {
   "cell_type": "code",
   "execution_count": 225,
   "metadata": {},
   "outputs": [],
   "source": [
    "def plot_reduced_dataset(dataset):\n",
    "    X = dataset[:,0]\n",
    "    Y = dataset[:,1]\n",
    "    \n",
    "    plt.xlabel('PC1')\n",
    "    plt.ylabel('PC2')\n",
    "    plt.plot(X,Y,'bo')"
   ]
  },
  {
   "cell_type": "code",
   "execution_count": 226,
   "metadata": {},
   "outputs": [
    {
     "data": {
      "image/png": "[encoded data removed]",
      "text/plain": [
       "<Figure size 432x288 with 1 Axes>"
      ]
     },
     "metadata": {
      "needs_background": "light"
     },
     "output_type": "display_data"
    }
   ],
   "source": [
    "plot_reduced_dataset(final_dataset)"
   ]
  },
  {
   "cell_type": "markdown",
   "metadata": {},
   "source": [
    "# EM Algorithm"
   ]
  },
  {
   "cell_type": "code",
   "execution_count": 227,
   "metadata": {},
   "outputs": [],
   "source": [
    "class EMAlgorithm:\n",
    "    def __init__(self,K):\n",
    "        self.K = K\n",
    "        \n",
    "        # initialize weight\n",
    "        self.w = np.random.uniform(0,1,K)\n",
    "        total = np.sum(self.w)\n",
    "        self.w = [x/total for x in self.w]\n",
    "        \n",
    "    def gaussian_likelihood(self,x,mean,co_var_matrix):\n",
    "        inv = np.linalg.inv(co_var_matrix)\n",
    "        det = abs(np.linalg.det(co_var_matrix))\n",
    "        d = (1/sqrt(pow((2*3.1416),self.dataset.shape[1])*det))\n",
    "        likelihood = []\n",
    "\n",
    "        for i in x:\n",
    "            a = np.dot(inv,i-mean)\n",
    "            b = np.dot((i-mean),a)\n",
    "            c = np.exp(-0.5*b)\n",
    "            l = c*d\n",
    "            likelihood.append(l)\n",
    "\n",
    "        return likelihood\n",
    "    \n",
    "    def fit(self,dataset):\n",
    "        self.dataset = dataset\n",
    "        self.means = np.random.uniform(-1,1,(self.K,dataset.shape[1]))\n",
    "        self.co_var_matrices = np.random.uniform(-1,1,(self.K,dataset.shape[1],dataset.shape[1]))\n",
    "        \n",
    "        prev = 0\n",
    "        \n",
    "        while True:\n",
    "            class_wise_likelihood = [ self.gaussian_likelihood(dataset,self.means[i],self.co_var_matrices[i]) for i in range(self.K)]\n",
    "            class_wise_likelihood = np.array(class_wise_likelihood)\n",
    "            \n",
    "            self.likelihood = class_wise_likelihood.transpose()\n",
    "            log_likelihood = 0\n",
    "        \n",
    "            for i in range(self.dataset.shape[0]):\n",
    "                t = 0\n",
    "                for j in range(self.K):\n",
    "                    t += self.w[j]*self.likelihood[i][j]\n",
    "                log_likelihood += np.log(t)\n",
    "            \n",
    "            diff = abs(prev-log_likelihood)\n",
    "        \n",
    "            if(diff<1e-6):\n",
    "                break\n",
    "\n",
    "            prev = log_likelihood\n",
    "            \n",
    "            \n",
    "            # E Step\n",
    "            p = []\n",
    "            \n",
    "            for i in range(dataset.shape[0]):\n",
    "                p_i = np.array([self.w[k]*class_wise_likelihood[k][i] for k in range(self.K)])\n",
    "                p_i = p_i/np.sum(p_i)\n",
    "                p.append(p_i)\n",
    "                \n",
    "            p = np.array(p)\n",
    "            # M Step\n",
    "            \n",
    "            # update means\n",
    "            \n",
    "            for k in range(self.K):\n",
    "                z = 0\n",
    "                for i in range(self.dataset.shape[0]):\n",
    "                    z += p[:,k][i]*dataset[i]\n",
    "                total = np.sum(p[:,k])\n",
    "                self.means[k] = z/total\n",
    "                \n",
    "            # update co_var\n",
    "            \n",
    "            for k in range(self.K):\n",
    "                co_var_matrix = 0\n",
    "                for i in range(self.dataset.shape[0]):\n",
    "                    arr = np.array(self.dataset[i]-self.means[k]).reshape(-1,1)\n",
    "                    cross = p[i][k]*arr*arr.T\n",
    "                    co_var_matrix += cross\n",
    "                self.co_var_matrices[k] = co_var_matrix/np.sum(p[:,k])\n",
    "                \n",
    "            # update weights\n",
    "            \n",
    "            for k in range(self.K):\n",
    "                self.w[k] = np.sum(p[:,k])/self.dataset.shape[0]\n",
    "                        \n",
    "        return\n",
    "    \n",
    "    def predict(self):\n",
    "        index = []\n",
    "\n",
    "        for i in range(self.dataset.shape[0]):\n",
    "            index.append(np.argmax(self.likelihood[i]))\n",
    "\n",
    "        index = np.array(index)\n",
    "        class_wise_dataset = []\n",
    "\n",
    "        for k in range(self.K):\n",
    "            class_wise_dataset.append(np.array(self.dataset[np.where(index==k)]))\n",
    "        \n",
    "        colors = ['ro','go','bo']\n",
    "\n",
    "        plt.title('EM Algorithm')\n",
    "        plt.xlabel('PC1')\n",
    "        plt.ylabel('PC2')\n",
    "\n",
    "        for k in range(self.K):\n",
    "            arr = class_wise_dataset[k].transpose()\n",
    "            X = arr[0]\n",
    "            Y = arr[1]\n",
    "            plt.plot(X,Y,colors[k])"
   ]
  },
  {
   "cell_type": "code",
   "execution_count": null,
   "metadata": {},
   "outputs": [],
   "source": [
    "model = EMAlgorithm(3)\n",
    "model.fit(final_dataset)"
   ]
  },
  {
   "cell_type": "code",
   "execution_count": null,
   "metadata": {},
   "outputs": [],
   "source": [
    "model.predict()"
   ]
  },
  {
   "cell_type": "code",
   "execution_count": null,
   "metadata": {},
   "outputs": [],
   "source": []
  }
 ],
 "metadata": {
  "kernelspec": {
   "display_name": "Python 3",
   "language": "python",
   "name": "python3"
  },
  "language_info": {
   "codemirror_mode": {
    "name": "ipython",
    "version": 3
   },
   "file_extension": ".py",
   "mimetype": "text/x-python",
   "name": "python",
   "nbconvert_exporter": "python",
   "pygments_lexer": "ipython3",
   "version": "3.7.4"
  }
 },
 "nbformat": 4,
 "nbformat_minor": 2
}
